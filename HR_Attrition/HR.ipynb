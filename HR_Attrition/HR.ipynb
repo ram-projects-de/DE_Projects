{
 "cells": [
  {
   "cell_type": "code",
   "execution_count": 0,
   "metadata": {
    "application/vnd.databricks.v1+cell": {
     "cellMetadata": {
      "byteLimit": 2048000,
      "rowLimit": 10000
     },
     "inputWidgets": {},
     "nuid": "eb2b9da4-5529-4a0a-9181-d1205dcef40a",
     "showTitle": false,
     "tableResultSettingsMap": {},
     "title": ""
    }
   },
   "outputs": [],
   "source": [
    "from pyspark.sql import SparkSession\n",
    "from pyspark.sql.functions import col,avg,round"
   ]
  },
  {
   "cell_type": "code",
   "execution_count": 0,
   "metadata": {
    "application/vnd.databricks.v1+cell": {
     "cellMetadata": {
      "byteLimit": 2048000,
      "rowLimit": 10000
     },
     "inputWidgets": {},
     "nuid": "65252fb6-fbb1-44d8-8086-d438de02944a",
     "showTitle": false,
     "tableResultSettingsMap": {},
     "title": ""
    }
   },
   "outputs": [],
   "source": [
    "spark = SparkSession.builder.appName(\"HR Emp Attrition\").getOrCreate()"
   ]
  },
  {
   "cell_type": "code",
   "execution_count": 0,
   "metadata": {
    "application/vnd.databricks.v1+cell": {
     "cellMetadata": {
      "byteLimit": 2048000,
      "rowLimit": 10000
     },
     "inputWidgets": {},
     "nuid": "6551a621-e6cc-4acb-81bb-43640fc2b57b",
     "showTitle": false,
     "tableResultSettingsMap": {},
     "title": ""
    }
   },
   "outputs": [],
   "source": [
    "df = spark.read.option(\"header\", True).option(\"inferSchema\", True).csv(\"/Volumes/hr/default/hr\")\n",
    "display(df.limit(20).collect())"
   ]
  },
  {
   "cell_type": "markdown",
   "metadata": {
    "application/vnd.databricks.v1+cell": {
     "cellMetadata": {
      "byteLimit": 2048000,
      "rowLimit": 10000
     },
     "inputWidgets": {},
     "nuid": "cad96444-8039-4da9-939a-4287d2592137",
     "showTitle": false,
     "tableResultSettingsMap": {},
     "title": ""
    }
   },
   "source": [
    "***Attrition Count***"
   ]
  },
  {
   "cell_type": "code",
   "execution_count": 0,
   "metadata": {
    "application/vnd.databricks.v1+cell": {
     "cellMetadata": {
      "byteLimit": 2048000,
      "rowLimit": 10000
     },
     "inputWidgets": {},
     "nuid": "7c96910d-f396-4a18-8ad5-534947087af5",
     "showTitle": false,
     "tableResultSettingsMap": {},
     "title": ""
    }
   },
   "outputs": [],
   "source": [
    "df.groupBy(\"Attrition\").count().show()"
   ]
  },
  {
   "cell_type": "markdown",
   "metadata": {
    "application/vnd.databricks.v1+cell": {
     "cellMetadata": {
      "byteLimit": 2048000,
      "rowLimit": 10000
     },
     "inputWidgets": {},
     "nuid": "e378ec89-018f-4dda-b495-5eac4e6d34e2",
     "showTitle": false,
     "tableResultSettingsMap": {},
     "title": ""
    }
   },
   "source": [
    "***Attrition by Overtime***"
   ]
  },
  {
   "cell_type": "code",
   "execution_count": 0,
   "metadata": {
    "application/vnd.databricks.v1+cell": {
     "cellMetadata": {
      "byteLimit": 2048000,
      "rowLimit": 10000
     },
     "inputWidgets": {},
     "nuid": "50c9bc5b-4c27-4185-8b0a-3359cbb2cf29",
     "showTitle": false,
     "tableResultSettingsMap": {},
     "title": ""
    }
   },
   "outputs": [],
   "source": [
    "df.filter(col(\"Attrition\")==\"Yes\").groupBy(\"OverTime\", \"Attrition\").count().show()"
   ]
  },
  {
   "cell_type": "markdown",
   "metadata": {
    "application/vnd.databricks.v1+cell": {
     "cellMetadata": {
      "byteLimit": 2048000,
      "rowLimit": 10000
     },
     "inputWidgets": {},
     "nuid": "c43e1eca-e1ad-4104-8036-3f0bce275891",
     "showTitle": false,
     "tableResultSettingsMap": {},
     "title": ""
    }
   },
   "source": [
    "***Avg Monthly income by Rolewise***"
   ]
  },
  {
   "cell_type": "code",
   "execution_count": 0,
   "metadata": {
    "application/vnd.databricks.v1+cell": {
     "cellMetadata": {
      "byteLimit": 2048000,
      "rowLimit": 10000
     },
     "inputWidgets": {},
     "nuid": "006e55ef-72c4-4a15-8873-8dd72a93728f",
     "showTitle": false,
     "tableResultSettingsMap": {},
     "title": ""
    }
   },
   "outputs": [],
   "source": [
    "df.groupBy(\"JobRole\").agg(round(avg(\"MonthlyIncome\"),2).alias(\"AvgMonthlyIncome\")).orderBy(\"AvgMonthlyIncome\", ascending=False).show()"
   ]
  },
  {
   "cell_type": "markdown",
   "metadata": {
    "application/vnd.databricks.v1+cell": {
     "cellMetadata": {
      "byteLimit": 2048000,
      "rowLimit": 10000
     },
     "inputWidgets": {},
     "nuid": "15b823c3-3a57-4ed5-9f8c-f3f712c11d2c",
     "showTitle": false,
     "tableResultSettingsMap": {},
     "title": ""
    }
   },
   "source": [
    "***Average years employees worked by attrition status***"
   ]
  },
  {
   "cell_type": "code",
   "execution_count": 0,
   "metadata": {
    "application/vnd.databricks.v1+cell": {
     "cellMetadata": {
      "byteLimit": 2048000,
      "rowLimit": 10000
     },
     "inputWidgets": {},
     "nuid": "290a9770-94d9-426e-934c-3042ce749d83",
     "showTitle": false,
     "tableResultSettingsMap": {},
     "title": ""
    }
   },
   "outputs": [],
   "source": [
    "df.groupBy(\"Attrition\").agg(round(avg(\"YearsAtCompany\"),2).alias(\"YearsAtCompany\")).show()"
   ]
  },
  {
   "cell_type": "markdown",
   "metadata": {
    "application/vnd.databricks.v1+cell": {
     "cellMetadata": {
      "byteLimit": 2048000,
      "rowLimit": 10000
     },
     "inputWidgets": {},
     "nuid": "a112402c-7cee-41fa-8e0b-a7232e93d984",
     "showTitle": false,
     "tableResultSettingsMap": {},
     "title": ""
    }
   },
   "source": [
    "***Dropping the below columns due to irrelevance, redundancy, or high missing values.***"
   ]
  },
  {
   "cell_type": "code",
   "execution_count": 0,
   "metadata": {
    "application/vnd.databricks.v1+cell": {
     "cellMetadata": {
      "byteLimit": 2048000,
      "rowLimit": 10000
     },
     "inputWidgets": {},
     "nuid": "6d6f98b5-eb4a-45fc-a6e6-5fca2bef818f",
     "showTitle": false,
     "tableResultSettingsMap": {},
     "title": ""
    }
   },
   "outputs": [],
   "source": [
    "drop_cols = [\"EmployeeCount\", \"StandardHours\", \"Over18\"]\n",
    "df = df.drop(*drop_cols)"
   ]
  },
  {
   "cell_type": "code",
   "execution_count": 0,
   "metadata": {
    "application/vnd.databricks.v1+cell": {
     "cellMetadata": {
      "byteLimit": 2048000,
      "rowLimit": 10000
     },
     "inputWidgets": {},
     "nuid": "5d21718a-5ad9-47e4-9941-846d4d22304e",
     "showTitle": false,
     "tableResultSettingsMap": {},
     "title": ""
    }
   },
   "outputs": [],
   "source": [
    "from pyspark.sql.functions import col\n",
    "# Cast numeric columns\n",
    "numeric_cols = [\"Age\", \"DailyRate\", \"DistanceFromHome\", \"MonthlyIncome\", \n",
    "                    \"YearsAtCompany\", \"YearsInCurrentRole\", \"YearsSinceLastPromotion\", \"YearsWithCurrManager\"]\n",
    "for col_name in numeric_cols:\n",
    "    df = df.withColumn(col_name, col(col_name).cast(\"integer\"))"
   ]
  },
  {
   "cell_type": "markdown",
   "metadata": {
    "application/vnd.databricks.v1+cell": {
     "cellMetadata": {
      "byteLimit": 2048000,
      "rowLimit": 10000
     },
     "inputWidgets": {},
     "nuid": "ac24b362-adee-423b-adb1-e06fae4ea063",
     "showTitle": false,
     "tableResultSettingsMap": {},
     "title": ""
    }
   },
   "source": [
    "### By Age"
   ]
  },
  {
   "cell_type": "code",
   "execution_count": 0,
   "metadata": {
    "application/vnd.databricks.v1+cell": {
     "cellMetadata": {
      "byteLimit": 2048000,
      "rowLimit": 10000
     },
     "inputWidgets": {},
     "nuid": "2ded961f-e1c5-4a57-aded-bffca1583c68",
     "showTitle": false,
     "tableResultSettingsMap": {},
     "title": ""
    }
   },
   "outputs": [],
   "source": [
    "from pyspark.sql import functions as F\n",
    "\n",
    "def analyze_attrition_by_age(df):\n",
    "    \"\"\"\n",
    "    Categorizes employees into age groups and calculates attrition counts & rates.\n",
    "    \"\"\"\n",
    "    \n",
    "    # Create Age Categories\n",
    "    df = df.withColumn(\n",
    "        \"AgeCategory\",\n",
    "        F.when((F.col(\"Age\") >= 18) & (F.col(\"Age\") <= 25), \"18-25\")\n",
    "         .when((F.col(\"Age\") >= 26) & (F.col(\"Age\") <= 35), \"26-35\")\n",
    "         .when((F.col(\"Age\") >= 36) & (F.col(\"Age\") <= 45), \"36-45\")\n",
    "         .when((F.col(\"Age\") >= 46) & (F.col(\"Age\") <= 55), \"46-55\")\n",
    "         .otherwise(\"55+\")\n",
    "    )\n",
    "    \n",
    "    # Group by Age Category and calculate attrition counts & percentages\n",
    "    return (\n",
    "        df.groupBy(\"AgeCategory\")\n",
    "          .agg(\n",
    "              F.count(\"*\").alias(\"TotalEmployees\"),\n",
    "              F.sum(F.when(F.col(\"Attrition\") == \"Yes\", 1).otherwise(0)).alias(\"AttritionCount\")\n",
    "          )\n",
    "          .withColumn(\"AttritionRate\", \n",
    "                      round((F.col(\"AttritionCount\") / F.col(\"TotalEmployees\") * 100),2).cast(\"double\"))\n",
    "          .orderBy(\"AgeCategory\")\n",
    "    )"
   ]
  },
  {
   "cell_type": "markdown",
   "metadata": {
    "application/vnd.databricks.v1+cell": {
     "cellMetadata": {
      "byteLimit": 2048000,
      "rowLimit": 10000
     },
     "inputWidgets": {},
     "nuid": "504cb767-8aca-4f9e-8497-53179049f314",
     "showTitle": false,
     "tableResultSettingsMap": {},
     "title": ""
    }
   },
   "source": [
    "##By Department#"
   ]
  },
  {
   "cell_type": "code",
   "execution_count": 0,
   "metadata": {
    "application/vnd.databricks.v1+cell": {
     "cellMetadata": {
      "byteLimit": 2048000,
      "rowLimit": 10000
     },
     "inputWidgets": {},
     "nuid": "2d6b7c2b-9fd9-44aa-b747-cff6d02c7edc",
     "showTitle": false,
     "tableResultSettingsMap": {},
     "title": ""
    }
   },
   "outputs": [],
   "source": [
    "def analyze_attrition_by_department(df):\n",
    "    return (\n",
    "        df.groupBy(\"Department\")\n",
    "          .agg(\n",
    "              F.count(\"*\").alias(\"TotalEmployees\"),\n",
    "              F.sum(F.when(F.col(\"Attrition\") == \"Yes\", 1).otherwise(0)).alias(\"AttritionCount\")\n",
    "          )\n",
    "          .withColumn(\"AttritionRate\", \n",
    "                      round((F.col(\"AttritionCount\") / F.col(\"TotalEmployees\") * 100),2).cast(\"double\"))\n",
    "          .orderBy(F.desc(\"AttritionRate\"))\n",
    "    )"
   ]
  },
  {
   "cell_type": "markdown",
   "metadata": {
    "application/vnd.databricks.v1+cell": {
     "cellMetadata": {
      "byteLimit": 2048000,
      "rowLimit": 10000
     },
     "inputWidgets": {},
     "nuid": "5ed98d0d-f1c9-4b32-9cf3-b700ed77a1da",
     "showTitle": false,
     "tableResultSettingsMap": {},
     "title": ""
    }
   },
   "source": [
    "##By Education"
   ]
  },
  {
   "cell_type": "code",
   "execution_count": 0,
   "metadata": {
    "application/vnd.databricks.v1+cell": {
     "cellMetadata": {
      "byteLimit": 2048000,
      "rowLimit": 10000
     },
     "inputWidgets": {},
     "nuid": "70650c6e-e1df-4424-897a-65e79b2ec325",
     "showTitle": false,
     "tableResultSettingsMap": {},
     "title": ""
    }
   },
   "outputs": [],
   "source": [
    "def analyze_attrition_by_education(df):\n",
    "    # Map education codes to labels\n",
    "    education_map = {\n",
    "        1: \"Below College\",\n",
    "        2: \"College\",\n",
    "        3: \"Bachelor\",\n",
    "        4: \"Master\",\n",
    "        5: \"Doctor\"\n",
    "    }\n",
    "    edu_mapping_expr = F.create_map([F.lit(x) for x in sum(education_map.items(), ())])\n",
    "\n",
    "    df = df.withColumn(\"EducationLevel\", edu_mapping_expr[F.col(\"Education\")])\n",
    "\n",
    "    return (\n",
    "        df.groupBy(\"EducationLevel\")\n",
    "          .agg(\n",
    "              F.count(\"*\").alias(\"TotalEmployees\"),\n",
    "              F.sum(F.when(F.col(\"Attrition\") == \"Yes\", 1).otherwise(0)).alias(\"AttritionCount\")\n",
    "          )\n",
    "          .withColumn(\"AttritionRate\", \n",
    "                      round((F.col(\"AttritionCount\") / F.col(\"TotalEmployees\") * 100),2).cast(\"double\"))\n",
    "          .orderBy(F.desc(\"AttritionRate\"))\n",
    "    )"
   ]
  },
  {
   "cell_type": "markdown",
   "metadata": {
    "application/vnd.databricks.v1+cell": {
     "cellMetadata": {
      "byteLimit": 2048000,
      "rowLimit": 10000
     },
     "inputWidgets": {},
     "nuid": "5115865b-1ff4-4659-bb61-12f957de8027",
     "showTitle": false,
     "tableResultSettingsMap": {},
     "title": ""
    }
   },
   "source": [
    "##By Environment Satisfaction"
   ]
  },
  {
   "cell_type": "code",
   "execution_count": 0,
   "metadata": {
    "application/vnd.databricks.v1+cell": {
     "cellMetadata": {
      "byteLimit": 2048000,
      "rowLimit": 10000
     },
     "inputWidgets": {},
     "nuid": "cef901fc-d4d0-4f2e-8195-a8e58e6d1e5e",
     "showTitle": false,
     "tableResultSettingsMap": {},
     "title": ""
    }
   },
   "outputs": [],
   "source": [
    "def analyze_attrition_by_env_satisfaction(df):\n",
    "    env_map = {\n",
    "        1: \"Low\",\n",
    "        2: \"Medium\",\n",
    "        3: \"High\",\n",
    "        4: \"Very High\"\n",
    "    }\n",
    "    env_mapping_expr = F.create_map([F.lit(x) for x in sum(env_map.items(), ())])\n",
    "\n",
    "    df = df.withColumn(\"EnvironmentSatisfactionLevel\", env_mapping_expr[F.col(\"EnvironmentSatisfaction\")])\n",
    "\n",
    "    return (\n",
    "        df.groupBy(\"EnvironmentSatisfactionLevel\")\n",
    "          .agg(\n",
    "              F.count(\"*\").alias(\"TotalEmployees\"),\n",
    "              F.sum(F.when(F.col(\"Attrition\") == \"Yes\", 1).otherwise(0)).alias(\"AttritionCount\")\n",
    "          )\n",
    "          .withColumn(\"AttritionRate\", \n",
    "                      round((F.col(\"AttritionCount\") / F.col(\"TotalEmployees\") * 100),2).cast(\"double\"))\n",
    "          .orderBy(F.desc(\"AttritionRate\"))\n",
    "    )"
   ]
  },
  {
   "cell_type": "markdown",
   "metadata": {
    "application/vnd.databricks.v1+cell": {
     "cellMetadata": {
      "byteLimit": 2048000,
      "rowLimit": 10000
     },
     "inputWidgets": {},
     "nuid": "2471da55-52a8-4ca3-8970-094621387b54",
     "showTitle": false,
     "tableResultSettingsMap": {},
     "title": ""
    }
   },
   "source": [
    "##By Job Satisfaction"
   ]
  },
  {
   "cell_type": "code",
   "execution_count": 0,
   "metadata": {
    "application/vnd.databricks.v1+cell": {
     "cellMetadata": {
      "byteLimit": 2048000,
      "rowLimit": 10000
     },
     "inputWidgets": {},
     "nuid": "ac9d4361-6002-4cee-97d6-147607ad748b",
     "showTitle": false,
     "tableResultSettingsMap": {},
     "title": ""
    }
   },
   "outputs": [],
   "source": [
    "def analyze_attrition_by_job_satisfaction(df):\n",
    "    job_map = {\n",
    "        1: \"Low\",\n",
    "        2: \"Medium\",\n",
    "        3: \"High\",\n",
    "        4: \"Very High\"\n",
    "    }\n",
    "    job_mapping_expr = F.create_map([F.lit(x) for x in sum(job_map.items(), ())])\n",
    "\n",
    "    df = df.withColumn(\"JobSatisfactionLevel\", job_mapping_expr[F.col(\"JobSatisfaction\")])\n",
    "\n",
    "    return (\n",
    "        df.groupBy(\"JobSatisfactionLevel\")\n",
    "          .agg(\n",
    "              F.count(\"*\").alias(\"TotalEmployees\"),\n",
    "              F.sum(F.when(F.col(\"Attrition\") == \"Yes\", 1).otherwise(0)).alias(\"AttritionCount\")\n",
    "          )\n",
    "          .withColumn(\"AttritionRate\", \n",
    "                      round((F.col(\"AttritionCount\") / F.col(\"TotalEmployees\") * 100),2).cast(\"double\"))\n",
    "          .orderBy(F.desc(\"AttritionRate\"))\n",
    "    )"
   ]
  },
  {
   "cell_type": "markdown",
   "metadata": {
    "application/vnd.databricks.v1+cell": {
     "cellMetadata": {
      "byteLimit": 2048000,
      "rowLimit": 10000
     },
     "inputWidgets": {},
     "nuid": "ad2e7610-438a-4ad5-b8f2-84897066be3b",
     "showTitle": false,
     "tableResultSettingsMap": {},
     "title": ""
    }
   },
   "source": [
    "## Analysis Insights"
   ]
  },
  {
   "cell_type": "code",
   "execution_count": 0,
   "metadata": {
    "application/vnd.databricks.v1+cell": {
     "cellMetadata": {
      "byteLimit": 2048000,
      "rowLimit": 10000
     },
     "inputWidgets": {},
     "nuid": "4738cceb-3c30-413d-8b88-213c37ea5684",
     "showTitle": false,
     "tableResultSettingsMap": {},
     "title": ""
    }
   },
   "outputs": [],
   "source": [
    "if __name__ == \"__main__\":\n",
    "\n",
    "    # Age Analysis\n",
    "    attrition_by_age = analyze_attrition_by_age(df)\n",
    "    attrition_by_age.show(truncate=False)\n",
    "\n",
    "    # Department Analysis\n",
    "    dept_attrition = analyze_attrition_by_department(df)\n",
    "    dept_attrition.show(truncate=False)\n",
    "\n",
    "    # Education Analysis\n",
    "    edu_attrition = analyze_attrition_by_education(df)\n",
    "    edu_attrition.show(truncate=False)\n",
    "\n",
    "    # Environment Satisfaction Analysis\n",
    "    env_attrition = analyze_attrition_by_env_satisfaction(df)\n",
    "    env_attrition.show(truncate=False)\n",
    "\n",
    "    # Job Satisfaction Analysis\n",
    "    job_attrition = analyze_attrition_by_job_satisfaction(df)\n",
    "    job_attrition.show(truncate=False)"
   ]
  }
 ],
 "metadata": {
  "application/vnd.databricks.v1+notebook": {
   "computePreferences": null,
   "dashboards": [
    {
     "elements": [
      {
       "dashboardResultIndex": 0,
       "elementNUID": "6551a621-e6cc-4acb-81bb-43640fc2b57b",
       "elementType": "command",
       "guid": "12a238d0-510c-46ab-a992-4848acbe64bd",
       "options": null,
       "position": null,
       "resultIndex": null
      },
      {
       "dashboardResultIndex": null,
       "elementNUID": "2471da55-52a8-4ca3-8970-094621387b54",
       "elementType": "command",
       "guid": "55c57f9e-23da-41ce-8c8b-855d51432c6a",
       "options": null,
       "position": null,
       "resultIndex": null
      },
      {
       "dashboardResultIndex": null,
       "elementNUID": "5115865b-1ff4-4659-bb61-12f957de8027",
       "elementType": "command",
       "guid": "6220a357-e7f1-4287-a809-f63a83e3943d",
       "options": null,
       "position": null,
       "resultIndex": null
      },
      {
       "dashboardResultIndex": null,
       "elementNUID": "504cb767-8aca-4f9e-8497-53179049f314",
       "elementType": "command",
       "guid": "877a6e41-e87b-4dc9-9162-ba3db936e0d6",
       "options": null,
       "position": null,
       "resultIndex": null
      },
      {
       "dashboardResultIndex": null,
       "elementNUID": "ad2e7610-438a-4ad5-b8f2-84897066be3b",
       "elementType": "command",
       "guid": "990966bc-76a4-468d-a64f-7086ec8a48f3",
       "options": null,
       "position": null,
       "resultIndex": null
      },
      {
       "dashboardResultIndex": null,
       "elementNUID": "5ed98d0d-f1c9-4b32-9cf3-b700ed77a1da",
       "elementType": "command",
       "guid": "d92ddab4-caa4-4be2-8702-15846bf88b6f",
       "options": null,
       "position": null,
       "resultIndex": null
      }
     ],
     "globalVars": {},
     "guid": "",
     "layoutOption": {
      "grid": true,
      "stack": true
     },
     "nuid": "5466ac71-938d-4e05-9cde-7bae8c2c76e1",
     "origId": 5228754598805520,
     "title": "HR_Emp_Attrition",
     "version": "DashboardViewV1",
     "width": 1024
    },
    {
     "elements": [],
     "globalVars": {},
     "guid": "",
     "layoutOption": {
      "grid": true,
      "stack": true
     },
     "nuid": "ce6f4da6-fe4d-4925-97e0-3de28f1bb88f",
     "origId": 8715523570714468,
     "title": "Untitled",
     "version": "DashboardViewV1",
     "width": 1024
    }
   ],
   "environmentMetadata": {
    "base_environment": "",
    "environment_version": "2"
   },
   "inputWidgetPreferences": null,
   "language": "python",
   "notebookMetadata": {
    "pythonIndentUnit": 4
   },
   "notebookName": "HR",
   "widgets": {}
  },
  "language_info": {
   "name": "python"
  }
 },
 "nbformat": 4,
 "nbformat_minor": 0
}
